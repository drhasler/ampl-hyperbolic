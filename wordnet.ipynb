{
 "cells": [
  {
   "cell_type": "code",
   "execution_count": 1,
   "metadata": {},
   "outputs": [],
   "source": [
    "from nltk.corpus import wordnet as wn"
   ]
  },
  {
   "cell_type": "code",
   "execution_count": 3,
   "metadata": {},
   "outputs": [],
   "source": [
    "all_syns = list(wn.all_synsets())"
   ]
  },
  {
   "cell_type": "code",
   "execution_count": 21,
   "metadata": {},
   "outputs": [
    {
     "name": "stdout",
     "output_type": "stream",
     "text": [
      "27 synsets for word good\n",
      "Synset('good.n.02') is a synset\n",
      "Lemma('good.n.02.good') is a lemma\n",
      "Lemma('evil.n.03.evil') is a lemma too\n"
     ]
    }
   ],
   "source": [
    "syns = wn.synsets('good')\n",
    "syn = wn.synset('good.n.02')\n",
    "lem = syn.lemmas()[0]\n",
    "ant = lem.antonyms()[0]\n",
    "\n",
    "print(len(syns), 'synsets for word good')\n",
    "print(syn, 'is a synset')\n",
    "print(lem, 'is a lemma')\n",
    "print(ant, 'is a lemma too')"
   ]
  },
  {
   "cell_type": "code",
   "execution_count": 30,
   "metadata": {},
   "outputs": [
    {
     "name": "stdout",
     "output_type": "stream",
     "text": [
      "Synset('morality.n.01') is its direct hypernym\n",
      "and its hyponyms are:\n",
      "Synset('beneficence.n.02')\n",
      "Synset('benignity.n.01')\n",
      "Synset('kindness.n.01')\n",
      "Synset('saintliness.n.01')\n",
      "Synset('summum_bonum.n.01')\n",
      "Synset('virtue.n.01')\n",
      "Synset('virtue.n.04')\n"
     ]
    }
   ],
   "source": [
    "hyper = syn.hypernyms()[0]\n",
    "hypos = syn.hyponyms()\n",
    "print(hyper, 'is its direct hypernym')\n",
    "print('and its hyponyms are:', *hypos, sep='\\n')"
   ]
  },
  {
   "cell_type": "code",
   "execution_count": 44,
   "metadata": {},
   "outputs": [
    {
     "name": "stdout",
     "output_type": "stream",
     "text": [
      "a shoe is made of:\n",
      "Synset('collar.n.05')\n",
      "Synset('counter.n.08')\n",
      "Synset('heel.n.01')\n",
      "Synset('insole.n.01')\n",
      "Synset('instep.n.02')\n",
      "Synset('lace.n.01')\n",
      "Synset('outsole.n.01')\n",
      "Synset('saddle.n.04')\n",
      "Synset('shoelace.n.01')\n",
      "Synset('spike.n.02')\n",
      "Synset('throat.n.02')\n",
      "Synset('toe_box.n.01')\n",
      "Synset('toecap.n.01')\n",
      "Synset('tongue.n.07')\n",
      "Synset('upper.n.02')\n"
     ]
    }
   ],
   "source": [
    "shoe = wn.synset('shoe.n.01')\n",
    "print('a shoe is made of:', *shoe.part_meronyms(), sep='\\n')"
   ]
  },
  {
   "cell_type": "code",
   "execution_count": 54,
   "metadata": {},
   "outputs": [
    {
     "name": "stdout",
     "output_type": "stream",
     "text": [
      "a wheel is part of:\n",
      "Synset('wheeled_vehicle.n.01')\n"
     ]
    }
   ],
   "source": [
    "wheel = wn.synset('wheel.n.01')\n",
    "print('a wheel is part of:', *wheel.part_holonyms(), sep='\\n')"
   ]
  },
  {
   "cell_type": "code",
   "execution_count": null,
   "metadata": {},
   "outputs": [],
   "source": []
  }
 ],
 "metadata": {
  "kernelspec": {
   "display_name": "Python 3 (ipykernel)",
   "language": "python",
   "name": "python3"
  },
  "language_info": {
   "codemirror_mode": {
    "name": "ipython",
    "version": 3
   },
   "file_extension": ".py",
   "mimetype": "text/x-python",
   "name": "python",
   "nbconvert_exporter": "python",
   "pygments_lexer": "ipython3",
   "version": "3.9.7"
  }
 },
 "nbformat": 4,
 "nbformat_minor": 4
}
